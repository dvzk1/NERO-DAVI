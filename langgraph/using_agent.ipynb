{
 "cells": [
  {
   "cell_type": "code",
   "execution_count": 1,
   "metadata": {},
   "outputs": [
    {
     "data": {
      "text/plain": [
       "True"
      ]
     },
     "execution_count": 1,
     "metadata": {},
     "output_type": "execute_result"
    }
   ],
   "source": [
    "from dotenv import load_dotenv\n",
    "\n",
    "import os\n",
    "\n",
    "load_dotenv()"
   ]
  },
  {
   "cell_type": "markdown",
   "metadata": {},
   "source": [
    "## Importando agente"
   ]
  },
  {
   "cell_type": "code",
   "execution_count": 2,
   "metadata": {},
   "outputs": [
    {
     "name": "stderr",
     "output_type": "stream",
     "text": [
      "USER_AGENT environment variable not set, consider setting it to identify your requests.\n"
     ]
    }
   ],
   "source": [
    "from newsletter_trends.workflow import compile_workflow"
   ]
  },
  {
   "cell_type": "code",
   "execution_count": 3,
   "metadata": {},
   "outputs": [],
   "source": [
    "app = compile_workflow()"
   ]
  },
  {
   "cell_type": "code",
   "execution_count": 4,
   "metadata": {},
   "outputs": [
    {
     "name": "stdout",
     "output_type": "stream",
     "text": [
      "---GET TRENDS---\n",
      "\n",
      "Trend List:  ['Resultado TSE Unificado', 'Campeonato Carioca', 'Cruzeiro x São Paulo', 'Paulista', 'Delegado morto']\n",
      "\n",
      "---GET SERPER AND SCRAPPING---\n",
      "\n"
     ]
    },
    {
     "name": "stderr",
     "output_type": "stream",
     "text": [
      "100%|██████████| 5/5 [00:08<00:00,  1.60s/it]\n"
     ]
    },
    {
     "name": "stdout",
     "output_type": "stream",
     "text": [
      "---Resultado TSE Unificado---\n",
      "Concurso Unificado da Justiça Eleitoral: resultado das provas objetivas deve ocorrer até as 18h de hoje (15)\n",
      "Resultado do concurso TSE Unificado é divulgado; veja como acessar\n",
      "Concurso TSE Unificado: SAIU o resultado final da prova objetiva!\n",
      "\n",
      "---Campeonato Carioca---\n",
      "Botafogo mostra evolução e vence a Portuguesa no Campeonato Carioca\n",
      "LIVE | Pós-jogo de Botafogo 2×0 Portuguesa pelo Campeonato Carioca\n",
      "Onde assistir ao vivo Botafogo x Portuguesa-RJ pelo Campeonato Carioca 2025\n",
      "\n",
      "---Cruzeiro x São Paulo---\n",
      "Cruzeiro x São Paulo tem resultado cravado pela Inteligência Artificial\n",
      "Cruzeiro x São Paulo: onde assistir ao vivo, horário e escalações\n",
      "Cruzeiro x São Paulo: horário e onde assistir ao amistoso da FC Series\n",
      "\n",
      "---Paulista---\n",
      "Quem são os favoritos para avançar no Campeonato Paulista? Veja\n",
      "Ponte larga no Paulista para recuperar a imagem perdida\n",
      "Onde assistir ao vivo Taubaté x Portuguesa Santista pelo Campeonato Paulista Série A2 de 2025\n",
      "\n",
      "---Delegado morto---\n",
      "Delegado é morto a tiros na zona sul de SP\n",
      "Veja o que se sabe sobre o caso do delegado morto com tiro nas costas em São Paulo\n",
      "Delegado morto a tiros em SP era pernambucano e ficou só 2 meses na função\n",
      "\n",
      "---CREATE NEWSLETTER---\n",
      "\n",
      "Aqui está a newsletter: \n"
     ]
    },
    {
     "data": {
      "text/markdown": [
       "**Newsletter do Dia - 15 de Janeiro de 2025**\n",
       "\n",
       "**1. Resultado do Concurso Unificado da Justiça Eleitoral**\n",
       "O Tribunal Superior Eleitoral (TSE) divulgou hoje os resultados das provas objetivas do Concurso Público Nacional Unificado da Justiça Eleitoral (CPNUJE). Os candidatos podem acessar os resultados no site do Cebraspe até as 18h. O concurso oferece 412 vagas, com salários que variam entre R$ 8.529,65 e R$ 13.994,78. A previsão é que o resultado final do certame seja publicado em junho, com nomeações programadas para julho.\n",
       "\n",
       "**2. Botafogo Vence Portuguesa no Campeonato Carioca**\n",
       "O Botafogo conquistou sua primeira vitória no Campeonato Carioca 2025 ao vencer a Portuguesa-RJ por 2 a 0. Os gols foram marcados por Kauê e Kayke. Com essa vitória, o Botafogo subiu para a segunda colocação na tabela, enquanto a Portuguesa ocupa o quinto lugar. O próximo jogo do Botafogo será contra o Sampaio Corrêa no próximo sábado.\n",
       "\n",
       "**3. Delegado Morto em São Paulo**\n",
       "O delegado Josenildo Belarmino de Moura Júnior, de 32 anos, foi morto a tiros durante uma tentativa de assalto na zona sul de São Paulo. Ele estava na função há apenas dois meses e havia sido aprovado em concurso para delegado em Pernambuco. O crime ocorreu quando o delegado foi abordado por um criminoso que se passava por entregador. A polícia está em busca do suspeito.\n",
       "\n",
       "**4. Campeonato Paulista Começa Hoje**\n",
       "O Campeonato Paulista de 2025 teve início hoje, com várias partidas programadas. O Palmeiras estreia contra a Portuguesa, enquanto o Novorizontino enfrenta a Ponte Preta. A competição contará com transmissões em diversos canais, incluindo Record e TNT Sports. O Paulistão também implementará o sistema de \"multiball\" para agilizar a reposição de bola, inspirado na Premier League.\n",
       "\n",
       "**5. Maricá e Boavista se Enfrentam no Carioca**\n",
       "Maricá e Boavista se enfrentam hoje no Campeonato Carioca, em um jogo que promete ser emocionante, especialmente para o Maricá, que faz sua estreia na elite do futebol estadual. O Boavista, que vem de uma vitória sobre o Flamengo, busca manter o bom desempenho.\n",
       "\n",
       "**6. Cruzeiro x São Paulo em Amistoso nos EUA**\n",
       "Cruzeiro e São Paulo se enfrentam hoje em um amistoso nos Estados Unidos, parte da FC Series. A partida contará com a estreia de reforços como Gabigol e Dudu pelo Cruzeiro. O jogo será transmitido ao vivo por vários canais, incluindo Band e SporTV.\n",
       "\n",
       "**7. Palmeiras x Portuguesa: Expectativas e Transmissão**\n",
       "O Palmeiras, atual tricampeão, inicia sua jornada no Paulistão contra a Portuguesa. A partida será transmitida pela Record e CazéTV, e os palpites indicam uma vitória do Verdão, que busca seu quarto título consecutivo.\n",
       "\n",
       "**8. Novidades no Mercado da Bola**\n",
       "O Bangu fechou um acordo com a empresa de materiais de construção Obramax para patrocínio durante o Campeonato Carioca. A logo da empresa será exibida nas camisas do time.\n",
       "\n",
       "Fique atento às atualizações e não perca as principais notícias do dia!"
      ],
      "text/plain": [
       "<IPython.core.display.Markdown object>"
      ]
     },
     "metadata": {},
     "output_type": "display_data"
    }
   ],
   "source": [
    "response = app.invoke({\"country\": \"brazil\",\n",
    "                       \"head\": 5,\n",
    "                       \"k\": 3})"
   ]
  },
  {
   "cell_type": "code",
   "execution_count": 11,
   "metadata": {},
   "outputs": [
    {
     "data": {
      "text/plain": [
       "dict_keys(['country', 'head', 'k', 'trends', 'news', 'newsletter'])"
      ]
     },
     "execution_count": 11,
     "metadata": {},
     "output_type": "execute_result"
    }
   ],
   "source": [
    "response.keys()"
   ]
  },
  {
   "cell_type": "code",
   "execution_count": 7,
   "metadata": {},
   "outputs": [
    {
     "data": {
      "text/markdown": [
       "**Newsletter do Dia - 15 de Janeiro de 2025**\n",
       "\n",
       "**1. Resultado do Concurso Unificado da Justiça Eleitoral**\n",
       "O Tribunal Superior Eleitoral (TSE) divulgou hoje os resultados das provas objetivas do Concurso Público Nacional Unificado da Justiça Eleitoral (CPNUJE). Os candidatos podem acessar os resultados no site do Cebraspe até as 18h. O concurso oferece 412 vagas, com salários que variam entre R$ 8.529,65 e R$ 13.994,78. A previsão é que o resultado final do certame seja publicado em junho, com nomeações programadas para julho.\n",
       "\n",
       "**2. Botafogo Vence Portuguesa no Campeonato Carioca**\n",
       "O Botafogo conquistou sua primeira vitória no Campeonato Carioca 2025 ao vencer a Portuguesa-RJ por 2 a 0. Os gols foram marcados por Kauê e Kayke. Com essa vitória, o Botafogo subiu para a segunda colocação na tabela, enquanto a Portuguesa ocupa o quinto lugar. O próximo jogo do Botafogo será contra o Sampaio Corrêa no próximo sábado.\n",
       "\n",
       "**3. Delegado Morto em São Paulo**\n",
       "O delegado Josenildo Belarmino de Moura Júnior, de 32 anos, foi morto a tiros durante uma tentativa de assalto na zona sul de São Paulo. Ele estava na função há apenas dois meses e havia sido aprovado em concurso para delegado em Pernambuco. O crime ocorreu quando o delegado foi abordado por um criminoso que se passava por entregador. A polícia está em busca do suspeito.\n",
       "\n",
       "**4. Campeonato Paulista Começa Hoje**\n",
       "O Campeonato Paulista de 2025 teve início hoje, com várias partidas programadas. O Palmeiras estreia contra a Portuguesa, enquanto o Novorizontino enfrenta a Ponte Preta. A competição contará com transmissões em diversos canais, incluindo Record e TNT Sports. O Paulistão também implementará o sistema de \"multiball\" para agilizar a reposição de bola, inspirado na Premier League.\n",
       "\n",
       "**5. Maricá e Boavista se Enfrentam no Carioca**\n",
       "Maricá e Boavista se enfrentam hoje no Campeonato Carioca, em um jogo que promete ser emocionante, especialmente para o Maricá, que faz sua estreia na elite do futebol estadual. O Boavista, que vem de uma vitória sobre o Flamengo, busca manter o bom desempenho.\n",
       "\n",
       "**6. Cruzeiro x São Paulo em Amistoso nos EUA**\n",
       "Cruzeiro e São Paulo se enfrentam hoje em um amistoso nos Estados Unidos, parte da FC Series. A partida contará com a estreia de reforços como Gabigol e Dudu pelo Cruzeiro. O jogo será transmitido ao vivo por vários canais, incluindo Band e SporTV.\n",
       "\n",
       "**7. Palmeiras x Portuguesa: Expectativas e Transmissão**\n",
       "O Palmeiras, atual tricampeão, inicia sua jornada no Paulistão contra a Portuguesa. A partida será transmitida pela Record e CazéTV, e os palpites indicam uma vitória do Verdão, que busca seu quarto título consecutivo.\n",
       "\n",
       "**8. Novidades no Mercado da Bola**\n",
       "O Bangu fechou um acordo com a empresa de materiais de construção Obramax para patrocínio durante o Campeonato Carioca. A logo da empresa será exibida nas camisas do time.\n",
       "\n",
       "Fique atento às atualizações e não perca as principais notícias do dia!"
      ],
      "text/plain": [
       "<IPython.core.display.Markdown object>"
      ]
     },
     "metadata": {},
     "output_type": "display_data"
    }
   ],
   "source": [
    "from IPython.display import Markdown\n",
    "\n",
    "newsletter = response[\"newsletter\"]\n",
    "display(Markdown(newsletter))"
   ]
  }
 ],
 "metadata": {
  "kernelspec": {
   "display_name": "env",
   "language": "python",
   "name": "python3"
  },
  "language_info": {
   "codemirror_mode": {
    "name": "ipython",
    "version": 3
   },
   "file_extension": ".py",
   "mimetype": "text/x-python",
   "name": "python",
   "nbconvert_exporter": "python",
   "pygments_lexer": "ipython3",
   "version": "3.10.11"
  }
 },
 "nbformat": 4,
 "nbformat_minor": 2
}
